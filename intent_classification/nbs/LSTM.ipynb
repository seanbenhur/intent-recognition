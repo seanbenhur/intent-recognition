{
 "cells": [
  {
   "cell_type": "code",
   "execution_count": null,
   "metadata": {
    "id": "GIaCGX4o2QHD"
   },
   "outputs": [],
   "source": [
    "import torch\n",
    "import torch.nn as nn\n",
    "import torch.nn.functional as F\n",
    "import torchtext\n",
    "from torchtext import data\n",
    "from sklearn.metrics import confusion_matrix,f1_score\n",
    "import matplotlib.pyplot \n",
    "import randomas plt\n",
    "import seaborn as sns\n",
    "from sklearn.metrics import  classification_report"
   ]
  },
  {
   "cell_type": "code",
   "execution_count": null,
   "metadata": {
    "id": "THkWQr0P27hg"
   },
   "outputs": [],
   "source": [
    "SEED = 1234\n",
    "torch.manual_seed(SEED)\n",
    "torch.backends.cudnn.deterministic = True"
   ]
  },
  {
   "cell_type": "code",
   "execution_count": null,
   "metadata": {
    "id": "fZLJVu-X9U1W"
   },
   "outputs": [],
   "source": [
    "def generate_bigrams(x):\n",
    "  n_grams = set(zip(*[x[i:] for i in range(2)]))\n",
    "  for n_gram in n_grams:\n",
    "    x.append(\" \".join(n_gram))\n",
    "  return x"
   ]
  },
  {
   "cell_type": "code",
   "execution_count": null,
   "metadata": {
    "id": "GRymEiKE910U"
   },
   "outputs": [],
   "source": [
    "TEXT = data.Field(tokenize=\"spacy\",include_lengths=True)\n",
    "LABEL = data.LabelField()\n",
    "fields = [(None,None),('text', TEXT),('label',LABEL), (None,None)]"
   ]
  },
  {
   "cell_type": "code",
   "execution_count": null,
   "metadata": {
    "id": "QEVph_8F-4dE"
   },
   "outputs": [],
   "source": [
    "train_data, test_data = data.TabularDataset.splits(\n",
    "                                        path = '/content/drive/MyDrive/data/benchmarking_data',\n",
    "                                        train = 'train.csv',\n",
    "                                        test = 'valid.csv',\n",
    "                                        format = 'csv',\n",
    "                                        fields = fields,\n",
    "                                        skip_header = True\n",
    ")"
   ]
  },
  {
   "cell_type": "code",
   "execution_count": null,
   "metadata": {
    "id": "TureHuYa_DAZ"
   },
   "outputs": [],
   "source": [
    "\n",
    "train_data,valid_data = train_data.split(random_state=random.seed(SEED))"
   ]
  },
  {
   "cell_type": "code",
   "execution_count": null,
   "metadata": {
    "colab": {
     "base_uri": "https://localhost:8080/"
    },
    "id": "qSBU2giH_V8n",
    "outputId": "ea04ed4d-807a-4250-edd9-1a0dfda438e6"
   },
   "outputs": [
    {
     "name": "stderr",
     "output_type": "stream",
     "text": [
      ".vector_cache/glove.6B.zip: 862MB [06:28, 2.22MB/s]                           \n",
      "100%|█████████▉| 399178/400000 [00:18<00:00, 20372.99it/s]"
     ]
    }
   ],
   "source": [
    "MAX_VOCAB_SIZE = 25_000\n",
    " \n",
    "TEXT.build_vocab(train_data,max_size=MAX_VOCAB_SIZE,\n",
    "                 vectors=\"glove.6B.100d\",\n",
    "                 unk_init = torch.Tensor.normal_)\n",
    "LABEL.build_vocab(train_data)"
   ]
  },
  {
   "cell_type": "code",
   "execution_count": null,
   "metadata": {
    "id": "3GbN3aCb_X62"
   },
   "outputs": [],
   "source": [
    "BATCH_SIZE = 64\n",
    "device = torch.device(\"cuda\" if torch.cuda.is_available() else \"cpu\")\n",
    "\n",
    "train_dl,valid_dl,test_dl = data.BucketIterator.splits(\n",
    "    (train_data,valid_data,test_data),\n",
    "    batch_size=BATCH_SIZE,\n",
    "    device=device,\n",
    "    sort_within_batch=True,\n",
    "    sort_key=lambda x:len(x.text)\n",
    ")"
   ]
  },
  {
   "cell_type": "code",
   "execution_count": null,
   "metadata": {
    "id": "FafeIbW5C-pb"
   },
   "outputs": [],
   "source": [
    "class LSTM(nn.Module):\n",
    "  def __init__(self,input_dim,embedding_dim,hidden_dim,output_dim,n_layers,\n",
    "               bidirectional,dropout):\n",
    "    super().__init__()\n",
    "\n",
    "    self.embedding =  nn.Embedding(input_dim,embedding_dim)\n",
    "\n",
    "    self.lstm = nn.LSTM(embedding_dim,hidden_dim,num_layers=n_layers,\n",
    "                        bidirectional=bidirectional,\n",
    "                        dropout=dropout)\n",
    "    \n",
    "    self.fc = nn.Linear(hidden_dim*2,output_dim)\n",
    "\n",
    "    self.dropout = nn.Dropout(dropout)\n",
    "\n",
    "  def forward(self,text,text_lengths):\n",
    "    #text = [sent_len,batch_size]\n",
    "    embedded = self.dropout(self.embedding(text))\n",
    "    #embedded = [sent_len,batch_size,emb_dim]\n",
    "    #pack sequence\n",
    "    packed_embedded =  nn.utils.rnn.pack_padded_sequence(embedded,text_lengths)\n",
    "\n",
    "    packed_output, (hidden,cell) = self.lstm(packed_embedded)\n",
    "    #unpack sentence\n",
    "    output,output_lengths = nn.utils.rnn.pad_packed_sequence(packed_output)\n",
    "    #output = [sent len, batch size, hid dim * num directions]\n",
    "    #output over padding tokens are zero tensors\n",
    "    #hidden = [num layers * num directions, batch size, hid dim]\n",
    "    #cell = [num layers * num directions, batch size, hid dim]\n",
    "        \n",
    "    #concat the final forward (hidden[-2,:,:]) and backward (hidden[-1,:,:]) hidden layers and apply dropout\n",
    "\n",
    "    hidden = self.dropout(torch.cat((hidden[-2,:,:], hidden[-1,:,:]), dim=1))\n",
    "\n",
    "    #hidden = [batch_size,hid_dim*num_directions]\n",
    "\n",
    "    return self.fc(hidden)"
   ]
  },
  {
   "cell_type": "code",
   "execution_count": null,
   "metadata": {
    "id": "M6l84616GD88"
   },
   "outputs": [],
   "source": [
    "INPUT_DIM = len(TEXT.vocab)\n",
    "EMBEDDING_DIM = 100\n",
    "HIDDEN_DIM = 256\n",
    "OUTPUT_DIM = len(LABEL.vocab)\n",
    "N_LAYERS = 2\n",
    "BIDIRECTIONAL = True\n",
    "DROPOUT = 0.5\n",
    "\n",
    "model = LSTM(INPUT_DIM, \n",
    "            EMBEDDING_DIM, \n",
    "            HIDDEN_DIM, \n",
    "            OUTPUT_DIM, \n",
    "            N_LAYERS, \n",
    "            BIDIRECTIONAL, \n",
    "            DROPOUT)"
   ]
  },
  {
   "cell_type": "code",
   "execution_count": null,
   "metadata": {
    "colab": {
     "base_uri": "https://localhost:8080/"
    },
    "id": "I-IaIPZAGHkf",
    "outputId": "6e996181-eb64-4a2b-b6c6-562e124c849c"
   },
   "outputs": [
    {
     "name": "stdout",
     "output_type": "stream",
     "text": [
      "The model has 3,379,135 trainable parameters\n"
     ]
    }
   ],
   "source": [
    "def count_parameters(model):\n",
    "  return sum(p.numel() for p in model.parameters() if p.requires_grad)\n",
    "\n",
    "print(f\"The model has {count_parameters(model):,} trainable parameters\")"
   ]
  },
  {
   "cell_type": "code",
   "execution_count": null,
   "metadata": {
    "id": "lF6-BxMBcL_3"
   },
   "outputs": [],
   "source": [
    "import torch.optim as optim\n",
    "\n",
    "optimizer = optim.Adam(model.parameters())\n",
    "criterion = nn.CrossEntropyLoss()\n",
    "\n",
    "model = model.to(device)\n",
    "criterion = criterion.to(device)"
   ]
  },
  {
   "cell_type": "code",
   "execution_count": null,
   "metadata": {
    "id": "4ZyiYyAkchc6"
   },
   "outputs": [],
   "source": [
    "def accuracy(y_pred,y):\n",
    "  \"\"\"\n",
    "  Returns a accuracy score\n",
    "  \"\"\"\n",
    "  max_preds = y_pred.argmax(dim=1,keepdim=True)\n",
    "  correct = max_preds.squeeze(1).eq(y)\n",
    "  return correct.sum()/torch.FloatTensor([y.shape[0]])"
   ]
  },
  {
   "cell_type": "code",
   "execution_count": null,
   "metadata": {
    "id": "AL9RFdN3Gjmt"
   },
   "outputs": [],
   "source": [
    "#train the model\n",
    "def train(model,iterator,optimizer,criterion):\n",
    "  epoch_loss = 0\n",
    "  epoch_acc = 0\n",
    " \n",
    "  model.train()\n",
    "\n",
    "  for batch in iterator:\n",
    "\n",
    "    optimizer.zero_grad()\n",
    "\n",
    "    text,text_lengths = batch.text\n",
    "\n",
    "    predictions = model(text,text_lengths)\n",
    "\n",
    "    loss = criterion(predictions,batch.label)\n",
    "\n",
    "    acc = accuracy(predictions,batch.label)\n",
    "\n",
    "    loss.backward()\n",
    "\n",
    "    optimizer.step()\n",
    "\n",
    "    epoch_loss += loss.item()\n",
    "    epoch_acc += acc.item()\n",
    "\n",
    "  return epoch_loss/len(iterator),epoch_acc/len(iterator)"
   ]
  },
  {
   "cell_type": "code",
   "execution_count": null,
   "metadata": {
    "id": "KrhK2QPMV1Im"
   },
   "outputs": [],
   "source": [
    "def evaluate(model,iterator,criterion):\n",
    "  epoch_loss = 0\n",
    "  epoch_acc = 0\n",
    "\n",
    "  model.eval()\n",
    "\n",
    "  with torch.no_grad():\n",
    "    for batch in iterator:\n",
    "\n",
    "      text,text_lengths = batch.text\n",
    "\n",
    "      predictions = model(text,text_lengths)\n",
    "\n",
    "      loss = criterion(predictions,batch.label)\n",
    "\n",
    "      acc = accuracy(predictions,batch.label)\n",
    "\n",
    "      epoch_loss += loss.item()\n",
    "      epoch_acc += acc.item()\n",
    "      \n",
    "    return epoch_loss/len(iterator),epoch_acc/len(iterator)"
   ]
  },
  {
   "cell_type": "code",
   "execution_count": null,
   "metadata": {
    "id": "aCponiF4dSQ8"
   },
   "outputs": [],
   "source": [
    "import time\n",
    "\n",
    "def epoch_time(start_time, end_time):\n",
    "    elapsed_time = end_time - start_time\n",
    "    elapsed_mins = int(elapsed_time / 60)\n",
    "    elapsed_secs = int(elapsed_time - (elapsed_mins * 60))\n",
    "    return elapsed_mins, elapsed_secs"
   ]
  },
  {
   "cell_type": "code",
   "execution_count": null,
   "metadata": {
    "colab": {
     "base_uri": "https://localhost:8080/"
    },
    "id": "VL35mFt-dVrR",
    "outputId": "97e31005-3c00-45ae-a1c5-58a6635a720b"
   },
   "outputs": [
    {
     "name": "stdout",
     "output_type": "stream",
     "text": [
      "Epoch: 01 | Epoch Time: 0m 45s\n",
      "\tTrain Loss: 0.545 | Train Acc: 82.96%\n",
      "\t Val. Loss: 0.166 |  Val. Acc: 94.62%\n",
      "Epoch: 02 | Epoch Time: 0m 45s\n",
      "\tTrain Loss: 0.195 | Train Acc: 93.86%\n",
      "\t Val. Loss: 0.097 |  Val. Acc: 96.98%\n",
      "Epoch: 03 | Epoch Time: 0m 44s\n",
      "\tTrain Loss: 0.137 | Train Acc: 95.48%\n",
      "\t Val. Loss: 0.086 |  Val. Acc: 97.48%\n",
      "Epoch: 04 | Epoch Time: 0m 44s\n",
      "\tTrain Loss: 0.110 | Train Acc: 96.47%\n",
      "\t Val. Loss: 0.075 |  Val. Acc: 97.61%\n",
      "Epoch: 05 | Epoch Time: 0m 44s\n",
      "\tTrain Loss: 0.086 | Train Acc: 97.42%\n",
      "\t Val. Loss: 0.078 |  Val. Acc: 97.99%\n"
     ]
    }
   ],
   "source": [
    "N_EPOCHS = 5\n",
    "\n",
    "best_valid_loss = float('inf')\n",
    "\n",
    "for epoch in range(N_EPOCHS):\n",
    "\n",
    "    start_time = time.time()\n",
    "    \n",
    "    train_loss, train_acc = train(model, train_dl, optimizer, criterion)\n",
    "    valid_loss, valid_acc = evaluate(model, valid_dl, criterion)\n",
    "    \n",
    "    end_time = time.time()\n",
    "\n",
    "    epoch_mins, epoch_secs = epoch_time(start_time, end_time)\n",
    "    \n",
    "    if valid_loss < best_valid_loss:\n",
    "        best_valid_loss = valid_loss\n",
    "        torch.save(model.state_dict(), '/content/drive/MyDrive/Models/INTENT/lstm-model.pt')\n",
    "    \n",
    "    print(f'Epoch: {epoch+1:02} | Epoch Time: {epoch_mins}m {epoch_secs}s')\n",
    "    print(f'\\tTrain Loss: {train_loss:.3f} | Train Acc: {train_acc*100:.2f}%')\n",
    "    print(f'\\t Val. Loss: {valid_loss:.3f} |  Val. Acc: {valid_acc*100:.2f}%')"
   ]
  },
  {
   "cell_type": "code",
   "execution_count": null,
   "metadata": {
    "id": "RVpri4_zrBpk"
   },
   "outputs": [],
   "source": [
    "def plot_confusion_matrix(test_y, predict_y):\n",
    "    C = confusion_matrix(test_y, predict_y)\n",
    "    # C = 9,9 matrix, each cell (i,j) represents number of points of class i are predicted class j\n",
    "    \n",
    "    A =(((C.T)/(C.sum(axis=1))).T)\n",
    "    #divid each element of the confusion matrix with the sum of elements in that column\n",
    "    \n",
    "    # C = [[1, 2],\n",
    "    #     [3, 4]]\n",
    "    # C.T = [[1, 3],\n",
    "    #        [2, 4]]\n",
    "    # C.sum(axis = 1)  axis=0 corresonds to columns and axis=1 corresponds to rows in two diamensional array\n",
    "    # C.sum(axix =1) = [[3, 7]]\n",
    "    # ((C.T)/(C.sum(axis=1))) = [[1/3, 3/7]\n",
    "    #                           [2/3, 4/7]]\n",
    "\n",
    "    # ((C.T)/(C.sum(axis=1))).T = [[1/3, 2/3]\n",
    "    #                           [3/7, 4/7]]\n",
    "    # sum of row elements = 1\n",
    "    \n",
    "    B =(C/C.sum(axis=0))\n",
    "    #divid each element of the confusion matrix with the sum of elements in that row\n",
    "    # C = [[1, 2],\n",
    "    #     [3, 4]]\n",
    "    # C.sum(axis = 0)  axis=0 corresonds to columns and axis=1 corresponds to rows in two diamensional array\n",
    "    # C.sum(axix =0) = [[4, 6]]\n",
    "    # (C/C.sum(axis=0)) = [[1/4, 2/6],\n",
    "    #                      [3/4, 4/6]] \n",
    "    \n",
    "    labels = [1,2,3,4,5,6,7,8,9]\n",
    "    # representing A in heatmap format\n",
    "    print(\"-\"*20, \"Confusion matrix\", \"-\"*20)\n",
    "    plt.figure(figsize=(20,7))\n",
    "    sns.heatmap(C, annot=True, cmap=\"YlGnBu\", fmt=\".3f\", xticklabels=labels, yticklabels=labels)\n",
    "    plt.xlabel('Predicted Class')\n",
    "    plt.ylabel('Original Class')\n",
    "    plt.show()\n",
    "\n",
    "    print(\"-\"*20, \"Precision matrix (Columm Sum=1)\", \"-\"*20)\n",
    "    plt.figure(figsize=(20,7))\n",
    "    sns.heatmap(B, annot=True, cmap=\"YlGnBu\", fmt=\".3f\", xticklabels=labels, yticklabels=labels)\n",
    "    plt.xlabel('Predicted Class')\n",
    "    plt.ylabel('Original Class')\n",
    "    plt.show()\n",
    "    \n",
    "    # representing B in heatmap format\n",
    "    print(\"-\"*20, \"Recall matrix (Row sum=1)\", \"-\"*20)\n",
    "    plt.figure(figsize=(20,7))\n",
    "    sns.heatmap(A, annot=True, cmap=\"YlGnBu\", fmt=\".3f\", xticklabels=labels, yticklabels=labels)\n",
    "    plt.xlabel('Predicted Class')\n",
    "    plt.ylabel('Original Class')\n",
    "    plt.show()\n",
    "    B = (C/C.sum(axis=0))\n",
    "    labels = [1,2,3,4,5,6,7,8,9]"
   ]
  },
  {
   "cell_type": "code",
   "execution_count": null,
   "metadata": {
    "id": "bHKqlcp7dZbG"
   },
   "outputs": [],
   "source": [
    "def get_predictions(model,iterator):\n",
    "  y_pred = []\n",
    "  y_true = []\n",
    "\n",
    "  model.eval()\n",
    "  with torch.no_grad():\n",
    "    for batch in iterator:\n",
    "\n",
    "      text,text_lengths = batch.text\n",
    "\n",
    "      predictions = model(text,text_lengths)\n",
    "\n",
    "      y_pred.extend(torch.argmax(predictions,axis=-1).tolist())\n",
    "      y_true.extend(batch.label.tolist())\n",
    "\n",
    "  return y_pred,y_true"
   ]
  },
  {
   "cell_type": "code",
   "execution_count": null,
   "metadata": {
    "id": "7_WhPQvli2UK"
   },
   "outputs": [],
   "source": [
    "y_pred,y_true = get_predictions(model,test_dl)"
   ]
  },
  {
   "cell_type": "code",
   "execution_count": null,
   "metadata": {
    "colab": {
     "base_uri": "https://localhost:8080/",
     "height": 1000
    },
    "id": "Li0tbflqrPD5",
    "outputId": "1f4d07ad-29ee-4e4e-83b1-11b589e641d0"
   },
   "outputs": [
    {
     "name": "stdout",
     "output_type": "stream",
     "text": [
      "-------------------- Confusion matrix --------------------\n"
     ]
    },
    {
     "data": {
      "image/png": "[encoded data removed]",
      "text/plain": [
       "<Figure size 1440x504 with 2 Axes>"
      ]
     },
     "metadata": {
      "needs_background": "light",
      "tags": []
     },
     "output_type": "display_data"
    },
    {
     "name": "stdout",
     "output_type": "stream",
     "text": [
      "-------------------- Precision matrix (Columm Sum=1) --------------------\n"
     ]
    },
    {
     "data": {
      "image/png": "[encoded data removed]",
      "text/plain": [
       "<Figure size 1440x504 with 2 Axes>"
      ]
     },
     "metadata": {
      "needs_background": "light",
      "tags": []
     },
     "output_type": "display_data"
    },
    {
     "name": "stdout",
     "output_type": "stream",
     "text": [
      "-------------------- Recall matrix (Row sum=1) --------------------\n"
     ]
    },
    {
     "data": {
      "image/png": "[encoded data removed]",
      "text/plain": [
       "<Figure size 1440x504 with 2 Axes>"
      ]
     },
     "metadata": {
      "needs_background": "light",
      "tags": []
     },
     "output_type": "display_data"
    }
   ],
   "source": [
    "plot_confusion_matrix(y_true,y_pred)"
   ]
  },
  {
   "cell_type": "code",
   "execution_count": null,
   "metadata": {
    "colab": {
     "base_uri": "https://localhost:8080/"
    },
    "id": "P3SIDCeCjGN8",
    "outputId": "e63002e6-8f67-4dfd-9480-153ee2de45e6"
   },
   "outputs": [
    {
     "name": "stdout",
     "output_type": "stream",
     "text": [
      "Classification Report:\n",
      "              precision    recall  f1-score   support\n",
      "\n",
      "           0       0.98      0.96      0.97       100\n",
      "           1       0.96      1.00      0.98       100\n",
      "           2       0.98      1.00      0.99       100\n",
      "           3       1.00      0.96      0.98       100\n",
      "           4       0.97      0.90      0.93       100\n",
      "           5       1.00      0.98      0.99       100\n",
      "           6       0.92      1.00      0.96       100\n",
      "\n",
      "    accuracy                           0.97       700\n",
      "   macro avg       0.97      0.97      0.97       700\n",
      "weighted avg       0.97      0.97      0.97       700\n",
      "\n"
     ]
    }
   ],
   "source": [
    "print('Classification Report:')\n",
    "print(classification_report(y_true, y_pred))"
   ]
  },
  {
   "cell_type": "code",
   "execution_count": null,
   "metadata": {
    "id": "NRjpUyy3rm2m"
   },
   "outputs": [],
   "source": []
  }
 ],
 "metadata": {
  "colab": {
   "collapsed_sections": [],
   "name": "INTENT IDENTIFICATION-LSTM",
   "provenance": []
  },
  "kernelspec": {
   "display_name": "Python 3",
   "language": "python",
   "name": "python3"
  },
  "language_info": {
   "codemirror_mode": {
    "name": "ipython",
    "version": 3
   },
   "file_extension": ".py",
   "mimetype": "text/x-python",
   "name": "python",
   "nbconvert_exporter": "python",
   "pygments_lexer": "ipython3",
   "version": "3.7.6"
  }
 },
 "nbformat": 4,
 "nbformat_minor": 4
}
