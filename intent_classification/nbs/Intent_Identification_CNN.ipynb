{
  "nbformat": 4,
  "nbformat_minor": 0,
  "metadata": {
    "colab": {
      "name": " Intent Identification CNN.ipynb",
      "provenance": [],
      "collapsed_sections": [],
      "toc_visible": true
    },
    "kernelspec": {
      "display_name": "Python 3",
      "name": "python3"
    }
  },
  "cells": [
    {
      "cell_type": "markdown",
      "metadata": {
        "id": "S5RJakqhwZOp"
      },
      "source": [
        "# INTENT IDENTIFICATION WITH CNN"
      ]
    },
    {
      "cell_type": "code",
      "metadata": {
        "id": "Qx54Pe-X-Fcd"
      },
      "source": [
        "import torch\n",
        "import torch.nn as nn   \n",
        "import torch.nn.functional as F\n",
        "import torchtext\n",
        "from torchtext import data\n",
        "import time\n",
        "import torch.optim as optim\n",
        "import matplotlib.pyplot as plt\n",
        "import seaborn as sns\n",
        "from sklearn.metrics import classification_report,confusion_matrix"
      ],
      "execution_count": 1,
      "outputs": []
    },
    {
      "cell_type": "code",
      "metadata": {
        "id": "kdu-8gPjWQzv"
      },
      "source": [
        "SEED = 1234\n",
        " \n",
        "torch.manual_seed(SEED)\n",
        "torch.backends.cudnn.deterministic = True"
      ],
      "execution_count": 2,
      "outputs": []
    },
    {
      "cell_type": "code",
      "metadata": {
        "id": "2VHQUKCZA9it"
      },
      "source": [
        "TEXT = data.Field(tokenize=\"spacy\",lower=True)\n",
        "LABEL = data.LabelField()\n",
        "fields = [(None,None),('text', TEXT),('label',LABEL), (None,None)]"
      ],
      "execution_count": 3,
      "outputs": []
    },
    {
      "cell_type": "code",
      "metadata": {
        "id": "XE2EK7hpTMcb"
      },
      "source": [
        "train_data, test_data = data.TabularDataset.splits(\r\n",
        "                                        path = '/content/drive/MyDrive/data/benchmarking_data',\r\n",
        "                                        train = 'train.csv',\r\n",
        "                                        test = 'valid.csv',\r\n",
        "                                        format = 'csv',\r\n",
        "                                        fields = fields,\r\n",
        "                                        skip_header = True\r\n",
        ")"
      ],
      "execution_count": 5,
      "outputs": []
    },
    {
      "cell_type": "code",
      "metadata": {
        "colab": {
          "base_uri": "https://localhost:8080/"
        },
        "id": "ztPDjhrlTfwx",
        "outputId": "6e0ebffa-2920-42b7-dcc0-b784a6a3b166"
      },
      "source": [
        "print(vars(train_data[0]))"
      ],
      "execution_count": 6,
      "outputs": [
        {
          "output_type": "stream",
          "text": [
            "{'text': ['i', 'want', 'to', 'listen', 'to', 'an', 'album', 'sorted', 'by', 'last', ',', 'open', 'google', 'music', 'and', 'play', 'paulinho', 'da', 'viola', '.'], 'label': 'PlayMusic'}\n"
          ],
          "name": "stdout"
        }
      ]
    },
    {
      "cell_type": "code",
      "metadata": {
        "colab": {
          "base_uri": "https://localhost:8080/"
        },
        "id": "re2to_BKVIxy",
        "outputId": "df2c235a-f9f6-4240-b157-5821c58f19ed"
      },
      "source": [
        "print(f\"Number of training examples: {len(train_data)}\")\r\n",
        "print(f\"Number of validation examples: {len(test_data)}\")"
      ],
      "execution_count": 7,
      "outputs": [
        {
          "output_type": "stream",
          "text": [
            "Number of training examples: 13784\n",
            "Number of validation examples: 700\n"
          ],
          "name": "stdout"
        }
      ]
    },
    {
      "cell_type": "markdown",
      "metadata": {
        "id": "CgY9E--DWCsa"
      },
      "source": [
        "#### Create our own validation set\r\n"
      ]
    },
    {
      "cell_type": "code",
      "metadata": {
        "id": "Z9FUieVgV-Sw"
      },
      "source": [
        "import random\r\n",
        "train_data,valid_data = train_data.split(random_state=random.seed(SEED))"
      ],
      "execution_count": 8,
      "outputs": []
    },
    {
      "cell_type": "code",
      "metadata": {
        "colab": {
          "base_uri": "https://localhost:8080/"
        },
        "id": "JcqbvM5jWdbQ",
        "outputId": "90974b6f-b38a-4b89-cbd9-4c16c00f8b53"
      },
      "source": [
        "print(f\"Number of training examples: {len(train_data)}\")\r\n",
        "print(f\"Number of validation examples: {len(valid_data)}\")\r\n",
        "print(f\"Number of test examples: {len(test_data)}\")"
      ],
      "execution_count": 9,
      "outputs": [
        {
          "output_type": "stream",
          "text": [
            "Number of training examples: 9649\n",
            "Number of validation examples: 4135\n",
            "Number of test examples: 700\n"
          ],
          "name": "stdout"
        }
      ]
    },
    {
      "cell_type": "code",
      "metadata": {
        "id": "GhHryAQgWmrk",
        "colab": {
          "base_uri": "https://localhost:8080/"
        },
        "outputId": "d2bbaa24-04e7-421d-ea59-509e21c776b8"
      },
      "source": [
        "MAX_VOCAB_SIZE = 25_000\n",
        " \n",
        "TEXT.build_vocab(train_data,max_size=MAX_VOCAB_SIZE,\n",
        "                 vectors=\"glove.6B.100d\",\n",
        "                 unk_init = torch.Tensor.normal_)\n",
        "LABEL.build_vocab(train_data)"
      ],
      "execution_count": 12,
      "outputs": [
        {
          "output_type": "stream",
          "text": [
            ".vector_cache/glove.6B.zip: 862MB [06:26, 2.23MB/s]                           \n",
            "100%|█████████▉| 399825/400000 [00:16<00:00, 25509.99it/s]"
          ],
          "name": "stderr"
        }
      ]
    },
    {
      "cell_type": "code",
      "metadata": {
        "colab": {
          "base_uri": "https://localhost:8080/"
        },
        "id": "hR7Le3b-eG1y",
        "outputId": "ab3c7004-d3b3-494c-89f3-705059924c7e"
      },
      "source": [
        "print(f\"Unique tokens  in text vocab:{len(TEXT.vocab)}\")\r\n",
        "print(f\"Unique tokens in label vocab:{len(LABEL.vocab)}\")"
      ],
      "execution_count": 13,
      "outputs": [
        {
          "output_type": "stream",
          "text": [
            "Unique tokens  in text vocab:9336\n",
            "Unique tokens in label vocab:7\n"
          ],
          "name": "stdout"
        }
      ]
    },
    {
      "cell_type": "code",
      "metadata": {
        "id": "SixGVhVQbHW6"
      },
      "source": [
        "def save_vocab(vocab, path):\r\n",
        "    import pickle\r\n",
        "    output = open(path, 'wb')\r\n",
        "    pickle.dump(vocab, output)\r\n",
        "    output.close()"
      ],
      "execution_count": 83,
      "outputs": []
    },
    {
      "cell_type": "code",
      "metadata": {
        "id": "JIpeqkBPbKIT"
      },
      "source": [
        "save_vocab(TEXT.vocab,vocab_save_path)"
      ],
      "execution_count": 85,
      "outputs": []
    },
    {
      "cell_type": "code",
      "metadata": {
        "id": "Nxr1RSdalGgQ"
      },
      "source": [
        "BATCH_SIZE = 64\n",
        " \n",
        "device = torch.device(\"cuda\" if torch.cuda.is_available() else \"cpu\")\n",
        " \n",
        "train_iterator,valid_iterator,test_iterator = data.BucketIterator.splits(\n",
        "    (train_data,valid_data,test_data),\n",
        "    batch_size=BATCH_SIZE,\n",
        "    device=device,\n",
        "    sort_within_batch=True,\n",
        "    sort_key=lambda x:len(x.text))"
      ],
      "execution_count": 20,
      "outputs": []
    },
    {
      "cell_type": "code",
      "metadata": {
        "id": "M3cLi9K2XsAT"
      },
      "source": [
        "\r\n",
        "class CNN(nn.Module):\r\n",
        "    def __init__(self, vocab_size, embedding_dim, n_filters, filter_sizes, output_dim, \r\n",
        "                 dropout):\r\n",
        "        \r\n",
        "        super().__init__()\r\n",
        "        \r\n",
        "        self.embedding = nn.Embedding(vocab_size, embedding_dim)\r\n",
        "        \r\n",
        "        self.convs = nn.ModuleList([\r\n",
        "                                    nn.Conv2d(in_channels = 1, \r\n",
        "                                              out_channels = n_filters, \r\n",
        "                                              kernel_size = (fs, embedding_dim)) \r\n",
        "                                    for fs in filter_sizes\r\n",
        "                                    ])\r\n",
        "        \r\n",
        "        self.fc = nn.Linear(len(filter_sizes) * n_filters, output_dim)\r\n",
        "        \r\n",
        "        self.dropout = nn.Dropout(dropout)\r\n",
        "        \r\n",
        "    def forward(self, text):\r\n",
        "        #text = [sent len, batch size]\r\n",
        "        text = text.permute(1, 0)\r\n",
        "        #text = [batch size, sent len]\r\n",
        "        embedded = self.embedding(text)      \r\n",
        "        #embedded = [batch size, sent len, emb dim]\r\n",
        "        embedded = embedded.unsqueeze(1)\r\n",
        "        #embedded = [batch size, 1, sent len, emb dim]\r\n",
        "        conved = [F.relu(conv(embedded)).squeeze(3) for conv in self.convs]\r\n",
        "        #conv_n = [batch size, n_filters, sent len - filter_sizes[n]]\r\n",
        "        pooled = [F.max_pool1d(conv, conv.shape[2]).squeeze(2) for conv in conved]\r\n",
        "        #pooled_n = [batch size, n_filters]\r\n",
        "        cat = self.dropout(torch.cat(pooled, dim = 1))\r\n",
        "        #cat = [batch size, n_filters * len(filter_sizes)\r\n",
        "        return self.fc(cat)"
      ],
      "execution_count": 29,
      "outputs": []
    },
    {
      "cell_type": "code",
      "metadata": {
        "id": "IXX4NCulndAw"
      },
      "source": [
        "INPUT_DIM = 25002\n",
        "EMBEDDING_DIM = 100\n",
        "N_FILTERS = 50\n",
        "FILTER_SIZES = [1,2,3]\n",
        "OUTPUT_DIM = 7\n",
        "DROPOUT = 0\n",
        " \n",
        "model = CNN(INPUT_DIM, EMBEDDING_DIM, N_FILTERS, FILTER_SIZES, OUTPUT_DIM, DROPOUT)"
      ],
      "execution_count": 63,
      "outputs": []
    },
    {
      "cell_type": "code",
      "metadata": {
        "colab": {
          "base_uri": "https://localhost:8080/"
        },
        "id": "O35bR5pin2aG",
        "outputId": "10d34643-d708-472a-c75d-a2fee857bc94"
      },
      "source": [
        "def count_parameters(model):\n",
        "    return sum(p.numel() for p in model.parameters() if p.requires_grad)\n",
        " \n",
        "print(f'The model has {count_parameters(model):,} trainable parameters')"
      ],
      "execution_count": 64,
      "outputs": [
        {
          "output_type": "stream",
          "text": [
            "The model has 2,531,407 trainable parameters\n"
          ],
          "name": "stdout"
        }
      ]
    },
    {
      "cell_type": "code",
      "metadata": {
        "id": "ek4TDiegoRgX"
      },
      "source": [
        "import torch.optim as optim\n",
        " \n",
        "lr=1e-3\n",
        "optimizer = optim.Adam(model.parameters(),lr=lr)\n",
        "#sched = optim.lr_scheduler"
      ],
      "execution_count": 65,
      "outputs": []
    },
    {
      "cell_type": "code",
      "metadata": {
        "id": "YV4zn_OKo92l"
      },
      "source": [
        "criterion = nn.CrossEntropyLoss()"
      ],
      "execution_count": 66,
      "outputs": []
    },
    {
      "cell_type": "code",
      "metadata": {
        "id": "lt0iqS9CpBwL"
      },
      "source": [
        "model = model.to(device)\r\n",
        "criterion = criterion.to(device)"
      ],
      "execution_count": 67,
      "outputs": []
    },
    {
      "cell_type": "code",
      "metadata": {
        "id": "xSVvk8h6pJaR"
      },
      "source": [
        "def categorical_accuracy(preds, y):\r\n",
        "    \"\"\"\r\n",
        "    Returns accuracy per batch, i.e. if you get 8/10 right, this returns 0.8, NOT 8\r\n",
        "    \"\"\"\r\n",
        "    max_preds = preds.argmax(dim = 1, keepdim = True) # get the index of the max probability\r\n",
        "    correct = max_preds.squeeze(1).eq(y)\r\n",
        "    return correct.sum() / torch.FloatTensor([y.shape[0]])"
      ],
      "execution_count": 68,
      "outputs": []
    },
    {
      "cell_type": "markdown",
      "metadata": {
        "id": "1SOOTgBkwUct"
      },
      "source": [
        "# Training the Model"
      ]
    },
    {
      "cell_type": "code",
      "metadata": {
        "id": "7ylzhmb6pUCT"
      },
      "source": [
        "def train(model, iterator, optimizer, criterion):\n",
        "    \n",
        "    epoch_loss = 0\n",
        "    epoch_acc = 0\n",
        "    \n",
        "    model.train()\n",
        "    \n",
        "    for batch in iterator:\n",
        "        \n",
        "        optimizer.zero_grad()\n",
        "        \n",
        "        predictions = model(batch.text)\n",
        "        \n",
        "        loss = criterion(predictions,batch.label)\n",
        "        \n",
        "        acc = categorical_accuracy(predictions, batch.label)\n",
        "        \n",
        "        loss.backward()\n",
        "        \n",
        "        optimizer.step()\n",
        "        \n",
        "        epoch_loss += loss.item()\n",
        "        epoch_acc += acc.item()\n",
        "        \n",
        "    return epoch_loss / len(iterator), epoch_acc / len(iterator)"
      ],
      "execution_count": 69,
      "outputs": []
    },
    {
      "cell_type": "code",
      "metadata": {
        "id": "WfcWAhG4pbvj"
      },
      "source": [
        "def evaluate(model, iterator, criterion):\n",
        "    \n",
        "    epoch_loss = 0\n",
        "    epoch_acc = 0\n",
        "    \n",
        "    model.eval()\n",
        "    \n",
        "    with torch.no_grad():\n",
        "    \n",
        "        for batch in iterator:\n",
        " \n",
        "            predictions = model(batch.text)\n",
        "            \n",
        "            loss = criterion(predictions,batch.label)\n",
        "            \n",
        "            acc = categorical_accuracy(predictions,batch.label)\n",
        " \n",
        "            epoch_loss += loss.item()\n",
        "            epoch_acc += acc.item()\n",
        "        \n",
        "    return epoch_loss / len(iterator), epoch_acc / len(iterator)"
      ],
      "execution_count": 70,
      "outputs": []
    },
    {
      "cell_type": "code",
      "metadata": {
        "id": "IE0RB-BSphO0"
      },
      "source": [
        "import time\n",
        " \n",
        "def epoch_time(start_time, end_time):\n",
        "    elapsed_time = end_time - start_time\n",
        "    elapsed_mins = int(elapsed_time / 60)\n",
        "    elapsed_secs = int(elapsed_time - (elapsed_mins * 60))\n",
        "    return elapsed_mins, elapsed_secs"
      ],
      "execution_count": 71,
      "outputs": []
    },
    {
      "cell_type": "code",
      "metadata": {
        "colab": {
          "base_uri": "https://localhost:8080/"
        },
        "id": "lsoc4vNApkgB",
        "outputId": "af964f00-dd28-466e-967d-06958351de8f"
      },
      "source": [
        "N_EPOCHS = 5\n",
        " \n",
        "best_valid_loss = float('inf')\n",
        " \n",
        "for epoch in range(N_EPOCHS):\n",
        " \n",
        "    start_time = time.time()\n",
        "    \n",
        "    train_loss, train_acc = train(model, train_iterator, optimizer, criterion)\n",
        "    valid_loss, valid_acc = evaluate(model, valid_iterator, criterion)\n",
        "    \n",
        "    end_time = time.time()\n",
        " \n",
        "    epoch_mins, epoch_secs = epoch_time(start_time, end_time)\n",
        "    \n",
        "    if valid_loss < best_valid_loss:\n",
        "        best_valid_loss = valid_loss\n",
        "        torch.save(model.state_dict(), '/content/drive/MyDrive/Models/INTENT/cnn-model.pt')\n",
        "    \n",
        "    print(f'Epoch: {epoch+1:02} | Epoch Time: {epoch_mins}m {epoch_secs}s')\n",
        "    print(f'\\tTrain Loss: {train_loss:.3f} | Train Acc: {train_acc*100:.2f}%')\n",
        "    print(f'\\t Val. Loss: {valid_loss:.3f} |  Val. Acc: {valid_acc*100:.2f}%')"
      ],
      "execution_count": 72,
      "outputs": [
        {
          "output_type": "stream",
          "text": [
            "Epoch: 01 | Epoch Time: 0m 6s\n",
            "\tTrain Loss: 0.567 | Train Acc: 86.60%\n",
            "\t Val. Loss: 0.183 |  Val. Acc: 95.20%\n",
            "Epoch: 02 | Epoch Time: 0m 6s\n",
            "\tTrain Loss: 0.120 | Train Acc: 97.31%\n",
            "\t Val. Loss: 0.104 |  Val. Acc: 97.31%\n",
            "Epoch: 03 | Epoch Time: 0m 6s\n",
            "\tTrain Loss: 0.064 | Train Acc: 98.74%\n",
            "\t Val. Loss: 0.086 |  Val. Acc: 97.50%\n",
            "Epoch: 04 | Epoch Time: 0m 6s\n",
            "\tTrain Loss: 0.038 | Train Acc: 99.32%\n",
            "\t Val. Loss: 0.073 |  Val. Acc: 97.91%\n",
            "Epoch: 05 | Epoch Time: 0m 6s\n",
            "\tTrain Loss: 0.023 | Train Acc: 99.61%\n",
            "\t Val. Loss: 0.071 |  Val. Acc: 97.84%\n"
          ],
          "name": "stdout"
        }
      ]
    },
    {
      "cell_type": "markdown",
      "metadata": {
        "id": "FnCx4V9bwO4J"
      },
      "source": [
        "# Testing the Model"
      ]
    },
    {
      "cell_type": "code",
      "metadata": {
        "id": "q2CPrSs0pWBk",
        "colab": {
          "base_uri": "https://localhost:8080/"
        },
        "outputId": "c0afee62-9ca1-46f5-8a3b-3e2d61643872"
      },
      "source": [
        "model.load_state_dict(torch.load(\"/content/drive/MyDrive/Models/INTENT/cnn-model.pt\"))\r\n",
        "test_loss,test_acc = evaluate(model,test_iterator,criterion)\r\n",
        "print(f\"Test Loss:{test_loss:.3f},Test Accuracy:{test_acc:.3f}\")"
      ],
      "execution_count": 74,
      "outputs": [
        {
          "output_type": "stream",
          "text": [
            "Test Loss:0.078,Test Accuracy:0.976\n"
          ],
          "name": "stdout"
        }
      ]
    },
    {
      "cell_type": "code",
      "metadata": {
        "id": "RVpri4_zrBpk"
      },
      "source": [
        "def plot_confusion_matrix(test_y, predict_y):\n",
        "    C = confusion_matrix(test_y, predict_y)\n",
        "    # C = 9,9 matrix, each cell (i,j) represents number of points of class i are predicted class j\n",
        "    \n",
        "    A =(((C.T)/(C.sum(axis=1))).T)\n",
        "    #divid each element of the confusion matrix with the sum of elements in that column\n",
        "    \n",
        "    # C = [[1, 2],\n",
        "    #     [3, 4]]\n",
        "    # C.T = [[1, 3],\n",
        "    #        [2, 4]]\n",
        "    # C.sum(axis = 1)  axis=0 corresonds to columns and axis=1 corresponds to rows in two diamensional array\n",
        "    # C.sum(axix =1) = [[3, 7]]\n",
        "    # ((C.T)/(C.sum(axis=1))) = [[1/3, 3/7]\n",
        "    #                           [2/3, 4/7]]\n",
        " \n",
        "    # ((C.T)/(C.sum(axis=1))).T = [[1/3, 2/3]\n",
        "    #                           [3/7, 4/7]]\n",
        "    # sum of row elements = 1\n",
        "    \n",
        "    B =(C/C.sum(axis=0))\n",
        "    #divid each element of the confusion matrix with the sum of elements in that row\n",
        "    # C = [[1, 2],\n",
        "    #     [3, 4]]\n",
        "    # C.sum(axis = 0)  axis=0 corresonds to columns and axis=1 corresponds to rows in two diamensional array\n",
        "    # C.sum(axix =0) = [[4, 6]]\n",
        "    # (C/C.sum(axis=0)) = [[1/4, 2/6],\n",
        "    #                      [3/4, 4/6]] \n",
        "    \n",
        "    labels = [1,2,3,4,5,6,7,8,9]\n",
        "    # representing A in heatmap format\n",
        "    print(\"-\"*20, \"Confusion matrix\", \"-\"*20)\n",
        "    plt.figure(figsize=(20,7))\n",
        "    sns.heatmap(C, annot=True, cmap=\"YlGnBu\", fmt=\".3f\", xticklabels=labels, yticklabels=labels)\n",
        "    plt.xlabel('Predicted Class')\n",
        "    plt.ylabel('Original Class')\n",
        "    plt.show()\n",
        " \n",
        "    print(\"-\"*20, \"Precision matrix (Columm Sum=1)\", \"-\"*20)\n",
        "    plt.figure(figsize=(20,7))\n",
        "    sns.heatmap(B, annot=True, cmap=\"YlGnBu\", fmt=\".3f\", xticklabels=labels, yticklabels=labels)\n",
        "    plt.xlabel('Predicted Class')\n",
        "    plt.ylabel('Original Class')\n",
        "    plt.show()\n",
        "    \n",
        "    # representing B in heatmap format\n",
        "    print(\"-\"*20, \"Recall matrix (Row sum=1)\", \"-\"*20)\n",
        "    plt.figure(figsize=(20,7))\n",
        "    sns.heatmap(A, annot=True, cmap=\"YlGnBu\", fmt=\".3f\", xticklabels=labels, yticklabels=labels)\n",
        "    plt.xlabel('Predicted Class')\n",
        "    plt.ylabel('Original Class')\n",
        "    plt.show()\n",
        "    B = (C/C.sum(axis=0))\n",
        "    labels = [1,2,3,4,5,6,7,8,9]"
      ],
      "execution_count": 75,
      "outputs": []
    },
    {
      "cell_type": "code",
      "metadata": {
        "id": "bHKqlcp7dZbG"
      },
      "source": [
        "def get_predictions(model,iterator):\r\n",
        "  y_pred = []\r\n",
        "  y_true = []\r\n",
        "\r\n",
        "  model.eval()\r\n",
        "  with torch.no_grad():\r\n",
        "    for batch in iterator:\r\n",
        "\r\n",
        "      text = batch.text\r\n",
        "\r\n",
        "      predictions = model(text)\r\n",
        "\r\n",
        "      y_pred.extend(torch.argmax(predictions,axis=-1).tolist())\r\n",
        "      y_true.extend(batch.label.tolist())\r\n",
        "\r\n",
        "  return y_pred,y_true"
      ],
      "execution_count": 76,
      "outputs": []
    },
    {
      "cell_type": "code",
      "metadata": {
        "id": "Gj8gIDtEEn9J",
        "colab": {
          "base_uri": "https://localhost:8080/",
          "height": 1000
        },
        "outputId": "9a331533-0b39-4590-e9b0-35508f63fce9"
      },
      "source": [
        "y_pred,y_true = get_predictions(model,test_iterator)\r\n",
        "plot_confusion_matrix(y_true,y_pred)"
      ],
      "execution_count": 77,
      "outputs": [
        {
          "output_type": "stream",
          "text": [
            "-------------------- Confusion matrix --------------------\n"
          ],
          "name": "stdout"
        },
        {
          "output_type": "display_data",
          "data": {
            "image/png": "[encoded data removed]",
            "text/plain": [
              "<Figure size 1440x504 with 2 Axes>"
            ]
          },
          "metadata": {
            "tags": [],
            "needs_background": "light"
          }
        },
        {
          "output_type": "stream",
          "text": [
            "-------------------- Precision matrix (Columm Sum=1) --------------------\n"
          ],
          "name": "stdout"
        },
        {
          "output_type": "display_data",
          "data": {
            "image/png": "[encoded data removed]",
            "text/plain": [
              "<Figure size 1440x504 with 2 Axes>"
            ]
          },
          "metadata": {
            "tags": [],
            "needs_background": "light"
          }
        },
        {
          "output_type": "stream",
          "text": [
            "-------------------- Recall matrix (Row sum=1) --------------------\n"
          ],
          "name": "stdout"
        },
        {
          "output_type": "display_data",
          "data": {
            "image/png": "[encoded data removed]",
            "text/plain": [
              "<Figure size 1440x504 with 2 Axes>"
            ]
          },
          "metadata": {
            "tags": [],
            "needs_background": "light"
          }
        }
      ]
    },
    {
      "cell_type": "code",
      "metadata": {
        "id": "lK4-dDVsEs3b",
        "colab": {
          "base_uri": "https://localhost:8080/"
        },
        "outputId": "b055cee1-c762-43d1-dcb3-fc491ae53226"
      },
      "source": [
        "print('Classification Report:')\r\n",
        "print(classification_report(y_true, y_pred))"
      ],
      "execution_count": 78,
      "outputs": [
        {
          "output_type": "stream",
          "text": [
            "Classification Report:\n",
            "              precision    recall  f1-score   support\n",
            "\n",
            "           0       1.00      0.96      0.98       100\n",
            "           1       0.99      1.00      1.00       100\n",
            "           2       0.98      1.00      0.99       100\n",
            "           3       0.98      0.97      0.97       100\n",
            "           4       0.97      0.93      0.95       100\n",
            "           5       1.00      0.99      0.99       100\n",
            "           6       0.92      0.98      0.95       100\n",
            "\n",
            "    accuracy                           0.98       700\n",
            "   macro avg       0.98      0.98      0.98       700\n",
            "weighted avg       0.98      0.98      0.98       700\n",
            "\n"
          ],
          "name": "stdout"
        }
      ]
    },
    {
      "cell_type": "code",
      "metadata": {
        "colab": {
          "base_uri": "https://localhost:8080/"
        },
        "id": "_zBkLKriOjTF",
        "outputId": "c444ecb8-8070-4f83-ba15-e31fb0aa7e1b"
      },
      "source": [
        "!pip install spacy\n",
        "import spacy\n",
        "nlp = spacy.load(\"en\")\n",
        "def predict_class(intent,model=model):\n",
        "  model.eval()\n",
        "  tokenized = [tok.text for tok in nlp.tokenizer(intent)]\n",
        "  indexed = [TEXT.vocab.stoi[t] for t in tokenized]\n",
        "  tensor = torch.LongTensor(indexed).to(device)\n",
        "  tensor = tensor.unsqueeze(1)\n",
        "  preds = model(tensor)\n",
        "  max_pred = preds.argmax(dim=1)\n",
        "  return max_pred.item()"
      ],
      "execution_count": 79,
      "outputs": [
        {
          "output_type": "stream",
          "text": [
            "Requirement already satisfied: spacy in /usr/local/lib/python3.6/dist-packages (2.2.4)\n",
            "Requirement already satisfied: thinc==7.4.0 in /usr/local/lib/python3.6/dist-packages (from spacy) (7.4.0)\n",
            "Requirement already satisfied: preshed<3.1.0,>=3.0.2 in /usr/local/lib/python3.6/dist-packages (from spacy) (3.0.5)\n",
            "Requirement already satisfied: setuptools in /usr/local/lib/python3.6/dist-packages (from spacy) (51.0.0)\n",
            "Requirement already satisfied: requests<3.0.0,>=2.13.0 in /usr/local/lib/python3.6/dist-packages (from spacy) (2.23.0)\n",
            "Requirement already satisfied: blis<0.5.0,>=0.4.0 in /usr/local/lib/python3.6/dist-packages (from spacy) (0.4.1)\n",
            "Requirement already satisfied: wasabi<1.1.0,>=0.4.0 in /usr/local/lib/python3.6/dist-packages (from spacy) (0.8.0)\n",
            "Requirement already satisfied: srsly<1.1.0,>=1.0.2 in /usr/local/lib/python3.6/dist-packages (from spacy) (1.0.5)\n",
            "Requirement already satisfied: catalogue<1.1.0,>=0.0.7 in /usr/local/lib/python3.6/dist-packages (from spacy) (1.0.0)\n",
            "Requirement already satisfied: murmurhash<1.1.0,>=0.28.0 in /usr/local/lib/python3.6/dist-packages (from spacy) (1.0.5)\n",
            "Requirement already satisfied: numpy>=1.15.0 in /usr/local/lib/python3.6/dist-packages (from spacy) (1.19.4)\n",
            "Requirement already satisfied: tqdm<5.0.0,>=4.38.0 in /usr/local/lib/python3.6/dist-packages (from spacy) (4.41.1)\n",
            "Requirement already satisfied: cymem<2.1.0,>=2.0.2 in /usr/local/lib/python3.6/dist-packages (from spacy) (2.0.5)\n",
            "Requirement already satisfied: plac<1.2.0,>=0.9.6 in /usr/local/lib/python3.6/dist-packages (from spacy) (1.1.3)\n",
            "Requirement already satisfied: idna<3,>=2.5 in /usr/local/lib/python3.6/dist-packages (from requests<3.0.0,>=2.13.0->spacy) (2.10)\n",
            "Requirement already satisfied: certifi>=2017.4.17 in /usr/local/lib/python3.6/dist-packages (from requests<3.0.0,>=2.13.0->spacy) (2020.12.5)\n",
            "Requirement already satisfied: urllib3!=1.25.0,!=1.25.1,<1.26,>=1.21.1 in /usr/local/lib/python3.6/dist-packages (from requests<3.0.0,>=2.13.0->spacy) (1.24.3)\n",
            "Requirement already satisfied: chardet<4,>=3.0.2 in /usr/local/lib/python3.6/dist-packages (from requests<3.0.0,>=2.13.0->spacy) (3.0.4)\n",
            "Requirement already satisfied: importlib-metadata>=0.20; python_version < \"3.8\" in /usr/local/lib/python3.6/dist-packages (from catalogue<1.1.0,>=0.0.7->spacy) (3.3.0)\n",
            "Requirement already satisfied: typing-extensions>=3.6.4; python_version < \"3.8\" in /usr/local/lib/python3.6/dist-packages (from importlib-metadata>=0.20; python_version < \"3.8\"->catalogue<1.1.0,>=0.0.7->spacy) (3.7.4.3)\n",
            "Requirement already satisfied: zipp>=0.5 in /usr/local/lib/python3.6/dist-packages (from importlib-metadata>=0.20; python_version < \"3.8\"->catalogue<1.1.0,>=0.0.7->spacy) (3.4.0)\n"
          ],
          "name": "stdout"
        }
      ]
    },
    {
      "cell_type": "code",
      "metadata": {
        "colab": {
          "base_uri": "https://localhost:8080/"
        },
        "id": "x139gguDQf1q",
        "outputId": "b77a61e0-8847-461d-f278-a913ccc6551d"
      },
      "source": [
        "predict_class(\"within walking distance\")"
      ],
      "execution_count": 81,
      "outputs": [
        {
          "output_type": "execute_result",
          "data": {
            "text/plain": [
              "1"
            ]
          },
          "metadata": {
            "tags": []
          },
          "execution_count": 81
        }
      ]
    }
  ]
}