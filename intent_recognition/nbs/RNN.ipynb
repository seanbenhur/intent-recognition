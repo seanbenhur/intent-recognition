{
 "cells": [
  {
   "cell_type": "markdown",
   "metadata": {
    "id": "S5RJakqhwZOp"
   },
   "source": [
    "# INTENT IDENTIFICATION WITH RNN"
   ]
  },
  {
   "cell_type": "code",
   "execution_count": 1,
   "metadata": {
    "id": "Qx54Pe-X-Fcd"
   },
   "outputs": [],
   "source": [
    "import torch\n",
    "import torch.nn as nn   \n",
    "import torch.nn.functional as F\n",
    "import torchtext\n",
    "from torchtext import data\n",
    "import time\n",
    "import torch.optim as optim\n",
    "import matplotlib.pyplot as plt\n",
    "import seaborn as sns\n",
    "from sklearn.metrics import classification_report,confusion_matrix"
   ]
  },
  {
   "cell_type": "code",
   "execution_count": 2,
   "metadata": {
    "id": "kdu-8gPjWQzv"
   },
   "outputs": [],
   "source": [
    "SEED = 1234\n",
    " \n",
    "torch.manual_seed(SEED)\n",
    "torch.backends.cudnn.deterministic = True"
   ]
  },
  {
   "cell_type": "code",
   "execution_count": 3,
   "metadata": {
    "id": "2VHQUKCZA9it"
   },
   "outputs": [],
   "source": [
    "TEXT = data.Field(tokenize=\"spacy\",lower=True)\n",
    "LABEL = data.LabelField()\n",
    "fields = [(None,None),('text', TEXT),('label',LABEL), (None,None)]"
   ]
  },
  {
   "cell_type": "code",
   "execution_count": 4,
   "metadata": {
    "id": "XE2EK7hpTMcb"
   },
   "outputs": [],
   "source": [
    "train_data, test_data = data.TabularDataset.splits(\r\n",
    "                                        path = '/content/drive/MyDrive/data/benchmarking_data',\r\n",
    "                                        train = 'train.csv',\r\n",
    "                                        test = 'valid.csv',\r\n",
    "                                        format = 'csv',\r\n",
    "                                        fields = fields,\r\n",
    "                                        skip_header = True\r\n",
    ")"
   ]
  },
  {
   "cell_type": "code",
   "execution_count": 5,
   "metadata": {
    "colab": {
     "base_uri": "https://localhost:8080/"
    },
    "id": "ztPDjhrlTfwx",
    "outputId": "37e7d5d4-9685-44b6-fb29-2b53ccd7e3db"
   },
   "outputs": [
    {
     "name": "stdout",
     "output_type": "stream",
     "text": [
      "{'text': ['i', 'want', 'to', 'listen', 'to', 'an', 'album', 'sorted', 'by', 'last', ',', 'open', 'google', 'music', 'and', 'play', 'paulinho', 'da', 'viola', '.'], 'label': 'PlayMusic'}\n"
     ]
    }
   ],
   "source": [
    "print(vars(train_data[0]))"
   ]
  },
  {
   "cell_type": "code",
   "execution_count": 6,
   "metadata": {
    "colab": {
     "base_uri": "https://localhost:8080/"
    },
    "id": "re2to_BKVIxy",
    "outputId": "60747f51-6cfe-4e91-ed33-833fb2d60f53"
   },
   "outputs": [
    {
     "name": "stdout",
     "output_type": "stream",
     "text": [
      "Number of training examples: 13784\n",
      "Number of validation examples: 700\n"
     ]
    }
   ],
   "source": [
    "print(f\"Number of training examples: {len(train_data)}\")\r\n",
    "print(f\"Number of validation examples: {len(test_data)}\")"
   ]
  },
  {
   "cell_type": "markdown",
   "metadata": {
    "id": "CgY9E--DWCsa"
   },
   "source": [
    "#### Create our own validation set\r\n"
   ]
  },
  {
   "cell_type": "code",
   "execution_count": 7,
   "metadata": {
    "id": "Z9FUieVgV-Sw"
   },
   "outputs": [],
   "source": [
    "import random\r\n",
    "train_data,valid_data = train_data.split(random_state=random.seed(SEED))"
   ]
  },
  {
   "cell_type": "code",
   "execution_count": 8,
   "metadata": {
    "colab": {
     "base_uri": "https://localhost:8080/"
    },
    "id": "JcqbvM5jWdbQ",
    "outputId": "7867502c-0930-47b8-ef7c-2f7176c0fdad"
   },
   "outputs": [
    {
     "name": "stdout",
     "output_type": "stream",
     "text": [
      "Number of training examples: 9649\n",
      "Number of validation examples: 4135\n",
      "Number of test examples: 700\n"
     ]
    }
   ],
   "source": [
    "print(f\"Number of training examples: {len(train_data)}\")\r\n",
    "print(f\"Number of validation examples: {len(valid_data)}\")\r\n",
    "print(f\"Number of test examples: {len(test_data)}\")"
   ]
  },
  {
   "cell_type": "code",
   "execution_count": 9,
   "metadata": {
    "id": "GhHryAQgWmrk"
   },
   "outputs": [],
   "source": [
    "MAX_VOCAB_SIZE = 25_000\n",
    " \n",
    "TEXT.build_vocab(train_data,max_size=MAX_VOCAB_SIZE)\n",
    "LABEL.build_vocab(train_data)"
   ]
  },
  {
   "cell_type": "code",
   "execution_count": 10,
   "metadata": {
    "colab": {
     "base_uri": "https://localhost:8080/"
    },
    "id": "hR7Le3b-eG1y",
    "outputId": "50c761b0-db37-4103-ac67-5d0c8e072804"
   },
   "outputs": [
    {
     "name": "stdout",
     "output_type": "stream",
     "text": [
      "Unique tokens  in text vocab:9336\n",
      "Unique tokens in label vocab:7\n"
     ]
    }
   ],
   "source": [
    "print(f\"Unique tokens  in text vocab:{len(TEXT.vocab)}\")\r\n",
    "print(f\"Unique tokens in label vocab:{len(LABEL.vocab)}\")"
   ]
  },
  {
   "cell_type": "code",
   "execution_count": 11,
   "metadata": {
    "colab": {
     "base_uri": "https://localhost:8080/"
    },
    "id": "WU2jTVCCj1vH",
    "outputId": "9ec85114-a4bb-49f1-ecab-2819c4cf62f7"
   },
   "outputs": [
    {
     "name": "stdout",
     "output_type": "stream",
     "text": [
      "[('the', 5204), ('a', 3108), ('to', 2418), ('in', 2412), ('for', 2131), ('of', 1787), ('.', 1681), ('i', 1580), ('at', 1469), ('play', 1340), ('is', 1141), ('add', 1139), ('book', 1125), ('what', 1061), ('my', 1007), ('find', 964), ('playlist', 949), ('me', 855), ('?', 852), ('on', 844)]\n"
     ]
    }
   ],
   "source": [
    "print(TEXT.vocab.freqs.most_common(20))"
   ]
  },
  {
   "cell_type": "code",
   "execution_count": 12,
   "metadata": {
    "colab": {
     "base_uri": "https://localhost:8080/"
    },
    "id": "ZOj8KkfHk2pJ",
    "outputId": "7a8f1133-178e-4b70-c1e2-446fc91a3282"
   },
   "outputs": [
    {
     "name": "stdout",
     "output_type": "stream",
     "text": [
      "['<unk>', '<pad>', 'the', 'a', 'to', 'in', 'for', 'of', '.', 'i']\n"
     ]
    }
   ],
   "source": [
    "print(TEXT.vocab.itos[:10])"
   ]
  },
  {
   "cell_type": "code",
   "execution_count": 13,
   "metadata": {
    "colab": {
     "base_uri": "https://localhost:8080/"
    },
    "id": "I_1g38BdlAvI",
    "outputId": "08b04f4d-3234-479c-f014-b9a81fc7f437"
   },
   "outputs": [
    {
     "name": "stdout",
     "output_type": "stream",
     "text": [
      "defaultdict(<function _default_unk_index at 0x7f01a2747ea0>, {'PlayMusic': 0, 'BookRestaurant': 1, 'AddToPlaylist': 2, 'GetWeather': 3, 'SearchScreeningEvent': 4, 'RateBook': 5, 'SearchCreativeWork': 6})\n"
     ]
    }
   ],
   "source": [
    "print(LABEL.vocab.stoi)"
   ]
  },
  {
   "cell_type": "code",
   "execution_count": 14,
   "metadata": {
    "id": "Nxr1RSdalGgQ"
   },
   "outputs": [],
   "source": [
    "BATCH_SIZE = 64\n",
    " \n",
    "device = torch.device(\"cuda\" if torch.cuda.is_available() else \"cpu\")\n",
    " \n",
    "train_iterator,valid_iterator,test_iterator = data.BucketIterator.splits(\n",
    "    (train_data,valid_data,test_data),\n",
    "    batch_size=BATCH_SIZE,\n",
    "    device=device,\n",
    "    sort_within_batch=True,\n",
    "    sort_key=lambda x:len(x.text))"
   ]
  },
  {
   "cell_type": "code",
   "execution_count": 15,
   "metadata": {
    "id": "EAq8vUeJluDi"
   },
   "outputs": [],
   "source": [
    "class RNN(nn.Module):\n",
    "  def __init__(self,input_dim,embedding_dim,hidden_dim,output_dim):\n",
    "    super().__init__()\n",
    "    #embedding layer\n",
    "    self.embedding = nn.Embedding(input_dim,embedding_dim)\n",
    "    #rnn layer\n",
    "    self.rnn = nn.RNN(embedding_dim,hidden_dim)\n",
    "    #last fc layer\n",
    "    self.fc = nn.Linear(hidden_dim,output_dim)\n",
    " \n",
    "  def forward(self,text):\n",
    "    #x = [sent_len,batch_size]\n",
    "    embedded =  self.embedding(text)\n",
    "    #embedded = [sent_len,batch_size,emb_dim]\n",
    "    #rnn outputs both hidden dim and output\n",
    "    output,hidden = self.rnn(embedded)\n",
    "    #output = [sent_len,batch_size,hid_dim]\n",
    "    #hidden = [1,batch_size,hid_dim]\n",
    "    assert torch.equal(output[-1,:,:],hidden.squeeze(0))\n",
    "    return self.fc(hidden.squeeze(0))"
   ]
  },
  {
   "cell_type": "code",
   "execution_count": 16,
   "metadata": {
    "id": "IXX4NCulndAw"
   },
   "outputs": [],
   "source": [
    "INPUT_DIM = len(TEXT.vocab)\n",
    "EMBEDDING_DIM = 100\n",
    "HIDDEN_DIM = 256\n",
    "OUTPUT_DIM = len(LABEL.vocab)\n",
    " \n",
    "model = RNN(INPUT_DIM,EMBEDDING_DIM,HIDDEN_DIM,OUTPUT_DIM)"
   ]
  },
  {
   "cell_type": "code",
   "execution_count": 17,
   "metadata": {
    "colab": {
     "base_uri": "https://localhost:8080/"
    },
    "id": "O35bR5pin2aG",
    "outputId": "02574719-01f7-4ce9-ffc6-94f2f5a237e9"
   },
   "outputs": [
    {
     "name": "stdout",
     "output_type": "stream",
     "text": [
      "The model has 1,027,047 trainable parameters\n"
     ]
    }
   ],
   "source": [
    "def count_parameters(model):\n",
    "    return sum(p.numel() for p in model.parameters() if p.requires_grad)\n",
    " \n",
    "print(f'The model has {count_parameters(model):,} trainable parameters')"
   ]
  },
  {
   "cell_type": "code",
   "execution_count": 18,
   "metadata": {
    "id": "ek4TDiegoRgX"
   },
   "outputs": [],
   "source": [
    "lr=1e-3\n",
    "optimizer = optim.Adam(model.parameters(),lr=lr)\n",
    "#sched = optim.lr_scheduler"
   ]
  },
  {
   "cell_type": "code",
   "execution_count": 19,
   "metadata": {
    "id": "YV4zn_OKo92l"
   },
   "outputs": [],
   "source": [
    "criterion = nn.CrossEntropyLoss()"
   ]
  },
  {
   "cell_type": "code",
   "execution_count": 20,
   "metadata": {
    "id": "lt0iqS9CpBwL"
   },
   "outputs": [],
   "source": [
    "model = model.to(device)\r\n",
    "criterion = criterion.to(device)"
   ]
  },
  {
   "cell_type": "code",
   "execution_count": 21,
   "metadata": {
    "id": "xSVvk8h6pJaR"
   },
   "outputs": [],
   "source": [
    "def categorical_accuracy(preds, y):\r\n",
    "    \"\"\"\r\n",
    "    Returns accuracy per batch, i.e. if you get 8/10 right, this returns 0.8, NOT 8\r\n",
    "    \"\"\"\r\n",
    "    max_preds = preds.argmax(dim = 1, keepdim = True) # get the index of the max probability\r\n",
    "    correct = max_preds.squeeze(1).eq(y)\r\n",
    "    return correct.sum() / torch.FloatTensor([y.shape[0]])"
   ]
  },
  {
   "cell_type": "markdown",
   "metadata": {
    "id": "1SOOTgBkwUct"
   },
   "source": [
    "# Training the Model"
   ]
  },
  {
   "cell_type": "code",
   "execution_count": 22,
   "metadata": {
    "id": "7ylzhmb6pUCT"
   },
   "outputs": [],
   "source": [
    "def train(model, iterator, optimizer, criterion):\n",
    "    \n",
    "    epoch_loss = 0\n",
    "    epoch_acc = 0\n",
    "    \n",
    "    model.train()\n",
    "    \n",
    "    for batch in iterator:\n",
    "        \n",
    "        optimizer.zero_grad()\n",
    "        \n",
    "        predictions = model(batch.text)\n",
    "        \n",
    "        loss = criterion(predictions,batch.label)\n",
    "        \n",
    "        acc = categorical_accuracy(predictions, batch.label)\n",
    "        \n",
    "        loss.backward()\n",
    "        \n",
    "        optimizer.step()\n",
    "        \n",
    "        epoch_loss += loss.item()\n",
    "        epoch_acc += acc.item()\n",
    "        \n",
    "    return epoch_loss / len(iterator), epoch_acc / len(iterator)"
   ]
  },
  {
   "cell_type": "code",
   "execution_count": 23,
   "metadata": {
    "id": "WfcWAhG4pbvj"
   },
   "outputs": [],
   "source": [
    "def evaluate(model, iterator, criterion):\n",
    "    \n",
    "    epoch_loss = 0\n",
    "    epoch_acc = 0\n",
    "    \n",
    "    model.eval()\n",
    "    \n",
    "    with torch.no_grad():\n",
    "    \n",
    "        for batch in iterator:\n",
    " \n",
    "            predictions = model(batch.text)\n",
    "            \n",
    "            loss = criterion(predictions,batch.label)\n",
    "            \n",
    "            acc = categorical_accuracy(predictions,batch.label)\n",
    " \n",
    "            epoch_loss += loss.item()\n",
    "            epoch_acc += acc.item()\n",
    "        \n",
    "    return epoch_loss / len(iterator), epoch_acc / len(iterator)"
   ]
  },
  {
   "cell_type": "code",
   "execution_count": 24,
   "metadata": {
    "id": "IE0RB-BSphO0"
   },
   "outputs": [],
   "source": [
    "def epoch_time(start_time, end_time):\n",
    "    elapsed_time = end_time - start_time\n",
    "    elapsed_mins = int(elapsed_time / 60)\n",
    "    elapsed_secs = int(elapsed_time - (elapsed_mins * 60))\n",
    "    return elapsed_mins, elapsed_secs"
   ]
  },
  {
   "cell_type": "code",
   "execution_count": 25,
   "metadata": {
    "colab": {
     "base_uri": "https://localhost:8080/"
    },
    "id": "lsoc4vNApkgB",
    "outputId": "d3c91a19-403d-4b5b-bf6b-2dcbfd50190b"
   },
   "outputs": [
    {
     "name": "stdout",
     "output_type": "stream",
     "text": [
      "Epoch: 01 | Epoch Time: 0m 3s\n",
      "\tTrain Loss: 0.657 | Train Acc: 78.26%\n",
      "\t Val. Loss: 0.313 |  Val. Acc: 90.24%\n",
      "Epoch: 02 | Epoch Time: 0m 2s\n",
      "\tTrain Loss: 0.239 | Train Acc: 92.73%\n",
      "\t Val. Loss: 0.215 |  Val. Acc: 93.76%\n",
      "Epoch: 03 | Epoch Time: 0m 2s\n",
      "\tTrain Loss: 0.231 | Train Acc: 93.29%\n",
      "\t Val. Loss: 0.266 |  Val. Acc: 92.80%\n",
      "Epoch: 04 | Epoch Time: 0m 2s\n",
      "\tTrain Loss: 0.242 | Train Acc: 93.27%\n",
      "\t Val. Loss: 0.294 |  Val. Acc: 91.75%\n",
      "Epoch: 05 | Epoch Time: 0m 2s\n",
      "\tTrain Loss: 0.138 | Train Acc: 96.27%\n",
      "\t Val. Loss: 0.174 |  Val. Acc: 95.25%\n"
     ]
    }
   ],
   "source": [
    "N_EPOCHS = 5\n",
    " \n",
    "best_valid_loss = float('inf')\n",
    " \n",
    "for epoch in range(N_EPOCHS):\n",
    " \n",
    "    start_time = time.time()\n",
    "    \n",
    "    train_loss, train_acc = train(model, train_iterator, optimizer, criterion)\n",
    "    valid_loss, valid_acc = evaluate(model, valid_iterator, criterion)\n",
    "    \n",
    "    end_time = time.time()\n",
    " \n",
    "    epoch_mins, epoch_secs = epoch_time(start_time, end_time)\n",
    "    \n",
    "    if valid_loss < best_valid_loss:\n",
    "        best_valid_loss = valid_loss\n",
    "        torch.save(model.state_dict(), '/content/drive/MyDrive/Models/INTENT/rnn-model.pt')\n",
    "    \n",
    "    print(f'Epoch: {epoch+1:02} | Epoch Time: {epoch_mins}m {epoch_secs}s')\n",
    "    print(f'\\tTrain Loss: {train_loss:.3f} | Train Acc: {train_acc*100:.2f}%')\n",
    "    print(f'\\t Val. Loss: {valid_loss:.3f} |  Val. Acc: {valid_acc*100:.2f}%')"
   ]
  },
  {
   "cell_type": "markdown",
   "metadata": {
    "id": "FnCx4V9bwO4J"
   },
   "source": [
    "# Testing the Model"
   ]
  },
  {
   "cell_type": "code",
   "execution_count": 26,
   "metadata": {
    "colab": {
     "base_uri": "https://localhost:8080/"
    },
    "id": "q2CPrSs0pWBk",
    "outputId": "ed15f9b0-ceb5-4da5-8f55-6d2169f76562"
   },
   "outputs": [
    {
     "name": "stdout",
     "output_type": "stream",
     "text": [
      "Test Loss:0.284,Test Accuracy:0.921\n"
     ]
    }
   ],
   "source": [
    "model.load_state_dict(torch.load(\"/content/drive/MyDrive/Models/INTENT/rnn-model.pt\"))\r\n",
    "test_loss,test_acc = evaluate(model,test_iterator,criterion)\r\n",
    "print(f\"Test Loss:{test_loss:.3f},Test Accuracy:{test_acc:.3f}\")"
   ]
  },
  {
   "cell_type": "code",
   "execution_count": 27,
   "metadata": {
    "id": "RVpri4_zrBpk"
   },
   "outputs": [],
   "source": [
    "def plot_confusion_matrix(test_y, predict_y):\n",
    "    C = confusion_matrix(test_y, predict_y)\n",
    "    # C = 9,9 matrix, each cell (i,j) represents number of points of class i are predicted class j\n",
    "    \n",
    "    A =(((C.T)/(C.sum(axis=1))).T)\n",
    "    #divid each element of the confusion matrix with the sum of elements in that column\n",
    "    \n",
    "    # C = [[1, 2],\n",
    "    #     [3, 4]]\n",
    "    # C.T = [[1, 3],\n",
    "    #        [2, 4]]\n",
    "    # C.sum(axis = 1)  axis=0 corresonds to columns and axis=1 corresponds to rows in two diamensional array\n",
    "    # C.sum(axix =1) = [[3, 7]]\n",
    "    # ((C.T)/(C.sum(axis=1))) = [[1/3, 3/7]\n",
    "    #                           [2/3, 4/7]]\n",
    " \n",
    "    # ((C.T)/(C.sum(axis=1))).T = [[1/3, 2/3]\n",
    "    #                           [3/7, 4/7]]\n",
    "    # sum of row elements = 1\n",
    "    \n",
    "    B =(C/C.sum(axis=0))\n",
    "    #divid each element of the confusion matrix with the sum of elements in that row\n",
    "    # C = [[1, 2],\n",
    "    #     [3, 4]]\n",
    "    # C.sum(axis = 0)  axis=0 corresonds to columns and axis=1 corresponds to rows in two diamensional array\n",
    "    # C.sum(axix =0) = [[4, 6]]\n",
    "    # (C/C.sum(axis=0)) = [[1/4, 2/6],\n",
    "    #                      [3/4, 4/6]] \n",
    "    \n",
    "    labels = [1,2,3,4,5,6,7,8,9]\n",
    "    # representing A in heatmap format\n",
    "    print(\"-\"*20, \"Confusion matrix\", \"-\"*20)\n",
    "    plt.figure(figsize=(20,7))\n",
    "    sns.heatmap(C, annot=True, cmap=\"YlGnBu\", fmt=\".3f\", xticklabels=labels, yticklabels=labels)\n",
    "    plt.xlabel('Predicted Class')\n",
    "    plt.ylabel('Original Class')\n",
    "    plt.show()\n",
    " \n",
    "    print(\"-\"*20, \"Precision matrix (Columm Sum=1)\", \"-\"*20)\n",
    "    plt.figure(figsize=(20,7))\n",
    "    sns.heatmap(B, annot=True, cmap=\"YlGnBu\", fmt=\".3f\", xticklabels=labels, yticklabels=labels)\n",
    "    plt.xlabel('Predicted Class')\n",
    "    plt.ylabel('Original Class')\n",
    "    plt.show()\n",
    "    \n",
    "    # representing B in heatmap format\n",
    "    print(\"-\"*20, \"Recall matrix (Row sum=1)\", \"-\"*20)\n",
    "    plt.figure(figsize=(20,7))\n",
    "    sns.heatmap(A, annot=True, cmap=\"YlGnBu\", fmt=\".3f\", xticklabels=labels, yticklabels=labels)\n",
    "    plt.xlabel('Predicted Class')\n",
    "    plt.ylabel('Original Class')\n",
    "    plt.show()\n",
    "    B = (C/C.sum(axis=0))\n",
    "    labels = [1,2,3,4,5,6,7,8,9]"
   ]
  },
  {
   "cell_type": "code",
   "execution_count": 28,
   "metadata": {
    "id": "bHKqlcp7dZbG"
   },
   "outputs": [],
   "source": [
    "def get_predictions(model,iterator):\r\n",
    "  y_pred = []\r\n",
    "  y_true = []\r\n",
    "\r\n",
    "  model.eval()\r\n",
    "  with torch.no_grad():\r\n",
    "    for batch in iterator:\r\n",
    "\r\n",
    "      text = batch.text\r\n",
    "\r\n",
    "      predictions = model(text)\r\n",
    "\r\n",
    "      y_pred.extend(torch.argmax(predictions,axis=-1).tolist())\r\n",
    "      y_true.extend(batch.label.tolist())\r\n",
    "\r\n",
    "  return y_pred,y_true"
   ]
  },
  {
   "cell_type": "code",
   "execution_count": 29,
   "metadata": {
    "colab": {
     "base_uri": "https://localhost:8080/",
     "height": 1000
    },
    "id": "Gj8gIDtEEn9J",
    "outputId": "ede6f339-0c0b-4808-9d37-119d98f7f501"
   },
   "outputs": [
    {
     "name": "stdout",
     "output_type": "stream",
     "text": [
      "-------------------- Confusion matrix --------------------\n"
     ]
    },
    {
     "data": {
      "image/png": "[encoded data removed]",
      "text/plain": [
       "<Figure size 1440x504 with 2 Axes>"
      ]
     },
     "metadata": {
      "needs_background": "light",
      "tags": []
     },
     "output_type": "display_data"
    },
    {
     "name": "stdout",
     "output_type": "stream",
     "text": [
      "-------------------- Precision matrix (Columm Sum=1) --------------------\n"
     ]
    },
    {
     "data": {
      "image/png": "[encoded data removed]",
      "text/plain": [
       "<Figure size 1440x504 with 2 Axes>"
      ]
     },
     "metadata": {
      "needs_background": "light",
      "tags": []
     },
     "output_type": "display_data"
    },
    {
     "name": "stdout",
     "output_type": "stream",
     "text": [
      "-------------------- Recall matrix (Row sum=1) --------------------\n"
     ]
    },
    {
     "data": {
      "image/png": "[encoded data removed]",
      "text/plain": [
       "<Figure size 1440x504 with 2 Axes>"
      ]
     },
     "metadata": {
      "needs_background": "light",
      "tags": []
     },
     "output_type": "display_data"
    }
   ],
   "source": [
    "y_pred,y_true = get_predictions(model,test_iterator)\r\n",
    "plot_confusion_matrix(y_true,y_pred)"
   ]
  },
  {
   "cell_type": "code",
   "execution_count": 30,
   "metadata": {
    "colab": {
     "base_uri": "https://localhost:8080/"
    },
    "id": "lK4-dDVsEs3b",
    "outputId": "10c25da4-be51-4b90-d36c-4bb8fbc946cb"
   },
   "outputs": [
    {
     "name": "stdout",
     "output_type": "stream",
     "text": [
      "Classification Report:\n",
      "              precision    recall  f1-score   support\n",
      "\n",
      "           0       1.00      0.90      0.95       100\n",
      "           1       0.75      1.00      0.85       100\n",
      "           2       0.97      0.92      0.94       100\n",
      "           3       1.00      0.82      0.90       100\n",
      "           4       0.93      0.89      0.91       100\n",
      "           5       1.00      0.96      0.98       100\n",
      "           6       0.91      0.97      0.94       100\n",
      "\n",
      "    accuracy                           0.92       700\n",
      "   macro avg       0.94      0.92      0.92       700\n",
      "weighted avg       0.94      0.92      0.92       700\n",
      "\n"
     ]
    }
   ],
   "source": [
    "print('Classification Report:')\r\n",
    "print(classification_report(y_true, y_pred))"
   ]
  }
 ],
 "metadata": {
  "colab": {
   "collapsed_sections": [],
   "name": "Intent Identification RNN.ipynb",
   "provenance": []
  },
  "kernelspec": {
   "display_name": "Python 3",
   "language": "python",
   "name": "python3"
  },
  "language_info": {
   "codemirror_mode": {
    "name": "ipython",
    "version": 3
   },
   "file_extension": ".py",
   "mimetype": "text/x-python",
   "name": "python",
   "nbconvert_exporter": "python",
   "pygments_lexer": "ipython3",
   "version": "3.7.6"
  }
 },
 "nbformat": 4,
 "nbformat_minor": 4
}
